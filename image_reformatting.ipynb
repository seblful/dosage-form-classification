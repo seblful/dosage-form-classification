{
 "cells": [
  {
   "cell_type": "code",
   "execution_count": 6,
   "id": "67c8f895-fae3-4e81-8648-c74213c0059b",
   "metadata": {},
   "outputs": [],
   "source": [
    "import os\n",
    "from PIL import Image"
   ]
  },
  {
   "cell_type": "code",
   "execution_count": 7,
   "id": "79377551-3eba-4e98-8703-27572164d368",
   "metadata": {},
   "outputs": [],
   "source": [
    "os.chdir('d:\\\\Python\\\\Проекты\\\\Классификация таблетки, капсулы\\\\')"
   ]
  },
  {
   "cell_type": "code",
   "execution_count": 8,
   "id": "00d8ee43-1fdc-4500-9b70-e8ff3825653b",
   "metadata": {},
   "outputs": [
    {
     "data": {
      "text/plain": [
       "'d:\\\\Python\\\\Проекты\\\\Классификация таблетки, капсулы'"
      ]
     },
     "execution_count": 8,
     "metadata": {},
     "output_type": "execute_result"
    }
   ],
   "source": [
    "class_names = ['tablets_all_formats', 'capsules_all_formats']\n",
    "data_directory = os.getcwd()\n",
    "data_directory"
   ]
  },
  {
   "cell_type": "code",
   "execution_count": 9,
   "id": "5aa35d56-2582-4eee-b99d-31c6487d8618",
   "metadata": {},
   "outputs": [
    {
     "name": "stdout",
     "output_type": "stream",
     "text": [
      "tablets_all_formats\n",
      "capsules_all_formats\n"
     ]
    }
   ],
   "source": [
    "for class_name in class_names:\n",
    "    if class_name == 'tablets_all_formats':\n",
    "        output_path = 'd:\\\\Python\\\\Проекты\\\\Классификация таблетки, капсулы\\\\data\\\\tablets\\\\'\n",
    "        os.chdir(output_path)\n",
    "    else:\n",
    "        output_path = 'd:\\\\Python\\\\Проекты\\\\Классификация таблетки, капсулы\\\\data\\\\capsules\\\\'\n",
    "        os.chdir(output_path)\n",
    "    class_path = data_directory + '\\\\' + class_name + '\\\\'\n",
    "    print(class_name)\n",
    "    \n",
    "    for i, img in enumerate(os.listdir(class_path)):\n",
    "        \n",
    "        image = Image.open(class_path + img)\n",
    "        image = image.convert('RGB')\n",
    "        image.save(str(i+1) + '.jpg')"
   ]
  },
  {
   "cell_type": "code",
   "execution_count": null,
   "id": "13c90488-28da-446b-ae24-da4f859f8135",
   "metadata": {},
   "outputs": [],
   "source": []
  }
 ],
 "metadata": {
  "kernelspec": {
   "display_name": "Python 3 (ipykernel)",
   "language": "python",
   "name": "python3"
  },
  "language_info": {
   "codemirror_mode": {
    "name": "ipython",
    "version": 3
   },
   "file_extension": ".py",
   "mimetype": "text/x-python",
   "name": "python",
   "nbconvert_exporter": "python",
   "pygments_lexer": "ipython3",
   "version": "3.10.0"
  }
 },
 "nbformat": 4,
 "nbformat_minor": 5
}
